{
 "cells": [
  {
   "cell_type": "code",
   "execution_count": 9,
   "metadata": {},
   "outputs": [],
   "source": [
    "import numpy as np\n",
    "import pandas as pd\n",
    "import os\n",
    "import time\n",
    "import pandas as pd\n",
    "import matplotlib.pyplot as plt\n",
    "from datetime import datetime, time\n"
   ]
  },
  {
   "cell_type": "code",
   "execution_count": 10,
   "metadata": {},
   "outputs": [],
   "source": [
    "def preprocess(path, alpha=0.0001):\n",
    "    df = pd.read_csv(path)\n",
    "\n",
    "    if \"m-\" in df.columns:\n",
    "        df = df.drop([\"m-\", \"m+\", \"l(3)\", \"l(4)\"], axis=1)\n",
    "\n",
    "    # mean prices and volumes*\n",
    "    \n",
    "    df['mean_sp'] = df.filter(like='sp').mean(axis=1)\n",
    "    df['mean_bp'] = df.filter(like='bp').mean(axis=1)\n",
    "    df['mean_sq'] = df.filter(like='sq').mean(axis=1)\n",
    "    df['mean_bq'] = df.filter(like='bq').mean(axis=1)\n",
    "    \n",
    "    for i in range(1,6):\n",
    "        # bid-ask spreads and mid-prices\n",
    "        df[f'bid-ask-spread{i}'] = df[f'sp{i}'] - df[f'bp{i}']\n",
    "        df[f'mid-price{i}'] = (df[f'sp{i}'] + df[f'bp{i}'])/2\n",
    "\n",
    "        # accumulated differences\n",
    "        df['accumulated_price_difference'] = df[f'bid-ask-spread{i}'] if i == 1 else df['accumulated_price_difference'] + df[f'bid-ask-spread{i}']\n",
    "        df['accumulated_quantity_difference'] = (df[f'sq{i}'] - df[f'bq{i}']) if i == 1 else df['accumulated_price_difference'] + ((df[f'sq{i}'] - df[f'bq{i}']))\n",
    "        # price differences\n",
    "        df['sp_difference' + (f'{1}' if i == 5 else f'{i+1}') + f'{i}'] = abs(df['sp1'] - df[f'sp{i}']) if i == 5 else abs(df[f'sp{i+1}'] - df[f'sp{i}'])\n",
    "        df['bp_difference' + (f'{1}' if i == 5 else f'{i+1}') + f'{i}'] = abs(df['bp1'] - df[f'bp{i}']) if i == 5 else abs(df[f'bp{i+1}'] - df[f'bp{i}'])\n",
    "        \n",
    "        # price and volume derivatives\n",
    "        df[f'sp_derviative{i}'] = df[f'sp{i}'] - df[f'sp{i}'].shift(1)\n",
    "        df[f'bp_derviative{i}'] = df[f'bp{i}'] - df[f'bp{i}'].shift(1)\n",
    "        df[f'sq_derviative{i}'] = df[f'sq{i}'] - df[f'sq{i}'].shift(1)\n",
    "        df[f'bq_derviative{i}'] = df[f'bq{i}'] - df[f'bq{i}'].shift(1)\n",
    "    \n",
    "    # output label calculation\n",
    "    for k in range(5, 35, 5):\n",
    "        m = df['mid-price1'].rolling(window=k).mean()\n",
    "        M = df['mid-price1'].shift(-k).rolling(window=k).mean()\n",
    "        l = (m - df['mid-price1'])/df['mid-price1']\n",
    "        L = (m - M)/M\n",
    "        df[f'y{k}(3)'] = 0\n",
    "        df.loc[l > alpha, f'y{k}(3)'] = 1\n",
    "        df.loc[l < -alpha, f'y{k}(3)'] = -1\n",
    "        df[f'y{k}(4)'] = 0\n",
    "        df.loc[L > alpha, f'y{k}(4)'] = 1\n",
    "        df.loc[L < -alpha, f'y{k}(4)'] = -1\n",
    "\n",
    "    df.to_csv(path, index=False)\n"
   ]
  },
  {
   "cell_type": "code",
   "execution_count": 11,
   "metadata": {},
   "outputs": [],
   "source": [
    "\n",
    "files = [\"D:\\projects\\HFT\\ALUMINIUM23FEBFUT\\output.csv\"]\n",
    "\n",
    "for file in files:\n",
    "    preprocess(file)\n",
    "\n"
   ]
  },
  {
   "cell_type": "code",
   "execution_count": 12,
   "metadata": {},
   "outputs": [],
   "source": [
    "def trim(path):\n",
    "    df = pd.read_csv(path)\n",
    "    # Convert the timestamp column to datetime format\n",
    "    df['time'] = pd.to_datetime(df['date'] + \" \" + df['time'])\n",
    "\n",
    "    # Define the start and end times\n",
    "    start_time = time(9, 31, 0) #type: ignore\n",
    "    end_time = time(15, 19, 0) #type: ignore\n",
    "\n",
    "    # Filter the dataframe to include only entries within the specified time range\n",
    "    mask = (df['time'].dt.time >= start_time) & (\n",
    "        df['time'].dt.time <= end_time)\n",
    "    df = df.loc[mask]\n",
    "\n",
    "    df.to_csv(path, index=False)\n"
   ]
  },
  {
   "cell_type": "code",
   "execution_count": 13,
   "metadata": {},
   "outputs": [],
   "source": [
    "files = [\"D:\\projects\\HFT\\ALUMINIUM23FEBFUT\\output.csv\"]\n",
    "\n",
    "for file in files:\n",
    "    trim(file)\n"
   ]
  },
  {
   "cell_type": "code",
   "execution_count": 14,
   "metadata": {},
   "outputs": [],
   "source": [
    "d = {}"
   ]
  },
  {
   "cell_type": "code",
   "execution_count": 15,
   "metadata": {},
   "outputs": [],
   "source": [
    "# root = \"./DATA New/\"\n",
    "# df = pd.read_csv(\"./countStats.csv\")\n",
    "# selected_files = list(df['name'])\n",
    "# folders = [f.path for f in os.scandir(root) if f.is_dir()]\n",
    "# files = []\n",
    "\n",
    "# for folder in folders:\n",
    "#     subfolders = [f.path for f in os.scandir(folder) if f.is_dir()]\n",
    "#     files += [f.path for f in os.scandir(folder) if f.is_file()]\n",
    "#     for subfolder in subfolders:\n",
    "#         files += [f.path for f in os.scandir(subfolder) if f.is_file()]\n",
    "# for file in files:\n",
    "#     if file.split(\"/\")[-1].split(\"\\\\\")[-1].split(\".\")[0] in selected_files:\n",
    "#         x = file.split(\"\\\\\")[-1].split(\".\")[0]\n",
    "#         if x in d:\n",
    "#             d[x].append(file)\n",
    "#         else:\n",
    "#             d[x] = [file]"
   ]
  },
  {
   "cell_type": "code",
   "execution_count": 16,
   "metadata": {},
   "outputs": [],
   "source": [
    "# count = 0\n",
    "# for i in d:\n",
    "#     count += 1  \n",
    "#     df = pd.read_csv(d[i][0])\n",
    "#     for p in range(1, len(d[i])):\n",
    "#         count += 1\n",
    "#         x = pd.read_csv(d[i][p])\n",
    "#         df = pd.concat([df, x])\n",
    "#     if 'BANKNIFTY' in i:\n",
    "#         s = 'BANKNIFTY'\n",
    "#     else:\n",
    "#         s = 'NIFTY'\n",
    "#     df.to_csv(f\"./final_new_data/{s}/{i}.csv\", index=False)\n",
    "#     print(f'file {count} processed!')\n"
   ]
  },
  {
   "cell_type": "code",
   "execution_count": null,
   "metadata": {},
   "outputs": [],
   "source": []
  }
 ],
 "metadata": {
  "kernelspec": {
   "display_name": "Python 3",
   "language": "python",
   "name": "python3"
  },
  "language_info": {
   "codemirror_mode": {
    "name": "ipython",
    "version": 3
   },
   "file_extension": ".py",
   "mimetype": "text/x-python",
   "name": "python",
   "nbconvert_exporter": "python",
   "pygments_lexer": "ipython3",
   "version": "3.10.7"
  },
  "orig_nbformat": 4
 },
 "nbformat": 4,
 "nbformat_minor": 2
}
