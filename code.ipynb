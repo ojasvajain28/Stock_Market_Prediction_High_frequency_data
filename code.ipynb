{
 "cells": [
  {
   "cell_type": "code",
   "execution_count": 2,
   "metadata": {},
   "outputs": [],
   "source": [
    "import numpy as np\n",
    "import pandas as pd\n",
    "from xgboost import XGBClassifier, XGBRegressor\n",
    "from sklearn.metrics import classification_report\n",
    "import tensorflow as tf\n",
    "from tensorflow import keras\n",
    "from keras.models import Sequential\n",
    "from keras.layers import Dense, Dropout\n",
    "from keras import Model\n",
    "from catboost import Pool, cv, CatBoostClassifier, CatBoostRegressor\n",
    "import os\n",
    "from datetime import timedelta"
   ]
  },
  {
   "cell_type": "code",
   "execution_count": 3,
   "metadata": {},
   "outputs": [],
   "source": [
    "def classifier_pipeline(train, test, y, types, name):\n",
    "    train = train.drop(['Unnamed: 0', 'ticker', 'date', 'time'], axis=1)\n",
    "    test = test.drop(['Unnamed: 0', 'ticker', 'date', 'time'], axis=1)\n",
    "\n",
    "    train = train.dropna()\n",
    "    test = test.dropna()\n",
    "\n",
    "    X = train.drop(types, axis=1)\n",
    "    Y = train[y]\n",
    "    Xt = test.drop(types, axis=1)\n",
    "    Yt = test[y]\n",
    "\n",
    "    mapping = {-1: 0, 0: 1, 1: 2}\n",
    "    Y = np.array([mapping[label] for label in Y])\n",
    "    Yt = np.array([mapping[label] for label in Yt])\n",
    "\n",
    "    model = XGBClassifier(n_jobs=-1, tree_method='hist',\n",
    "                          objective='reg:squarederror')\n",
    "    model.fit(X, Y)\n",
    "\n",
    "    Yt_pred = model.predict(Xt)\n",
    "    Yt_pred = np.array([0 if label < 1 else 1 if label <\n",
    "                       2 else 2 for label in Yt_pred])\n",
    "    \n",
    "    report = classification_report(Yt, Yt_pred, target_names=['-1', '0', '1'])\n",
    "    path = f'./final_new_data/results/XGB Classifier/report/classification_report_{name}.txt'\n",
    "    os.makedirs(os.path.dirname(path), exist_ok=True)\n",
    "    with open(path, 'a') as f:\n",
    "        f.write(f'Parameter {y} Report:\\n')\n",
    "        f.write(str(report))\n",
    "        f.write('\\n\\n')\n",
    "    pd.DataFrame(Yt_pred).to_csv(\"./prediction.csv\")\n",
    "    # Yt_pred.to_csv(\"./prediction.csv\")\n",
    "    return classification_report(Yt, Yt_pred, target_names=['-1', '0', '1'], output_dict=True)['accuracy'] #type: ignore\n"
   ]
  },
  {
   "cell_type": "code",
   "execution_count": 4,
   "metadata": {},
   "outputs": [
    {
     "name": "stdout",
     "output_type": "stream",
     "text": [
      "Interval type: y5(3)\n"
     ]
    },
    {
     "name": "stderr",
     "output_type": "stream",
     "text": [
      "C:\\Users\\Asud\\AppData\\Local\\Temp\\ipykernel_18616\\2291859408.py:13: UserWarning: Parsing dates in DD/MM/YYYY format when dayfirst=False (the default) was specified. This may lead to inconsistently parsed dates! Specify a format to ensure consistent parsing.\n",
      "  df['date'] = pd.to_datetime(df['date'])\n"
     ]
    },
    {
     "name": "stdout",
     "output_type": "stream",
     "text": [
      "Interval type: y5(4)\n"
     ]
    },
    {
     "name": "stderr",
     "output_type": "stream",
     "text": [
      "C:\\Users\\Asud\\AppData\\Local\\Temp\\ipykernel_18616\\2291859408.py:13: UserWarning: Parsing dates in DD/MM/YYYY format when dayfirst=False (the default) was specified. This may lead to inconsistently parsed dates! Specify a format to ensure consistent parsing.\n",
      "  df['date'] = pd.to_datetime(df['date'])\n"
     ]
    },
    {
     "name": "stdout",
     "output_type": "stream",
     "text": [
      "Interval type: y10(3)\n"
     ]
    },
    {
     "name": "stderr",
     "output_type": "stream",
     "text": [
      "C:\\Users\\Asud\\AppData\\Local\\Temp\\ipykernel_18616\\2291859408.py:13: UserWarning: Parsing dates in DD/MM/YYYY format when dayfirst=False (the default) was specified. This may lead to inconsistently parsed dates! Specify a format to ensure consistent parsing.\n",
      "  df['date'] = pd.to_datetime(df['date'])\n"
     ]
    },
    {
     "name": "stdout",
     "output_type": "stream",
     "text": [
      "Interval type: y10(4)\n"
     ]
    },
    {
     "name": "stderr",
     "output_type": "stream",
     "text": [
      "C:\\Users\\Asud\\AppData\\Local\\Temp\\ipykernel_18616\\2291859408.py:13: UserWarning: Parsing dates in DD/MM/YYYY format when dayfirst=False (the default) was specified. This may lead to inconsistently parsed dates! Specify a format to ensure consistent parsing.\n",
      "  df['date'] = pd.to_datetime(df['date'])\n"
     ]
    },
    {
     "name": "stdout",
     "output_type": "stream",
     "text": [
      "Interval type: y15(3)\n"
     ]
    },
    {
     "name": "stderr",
     "output_type": "stream",
     "text": [
      "C:\\Users\\Asud\\AppData\\Local\\Temp\\ipykernel_18616\\2291859408.py:13: UserWarning: Parsing dates in DD/MM/YYYY format when dayfirst=False (the default) was specified. This may lead to inconsistently parsed dates! Specify a format to ensure consistent parsing.\n",
      "  df['date'] = pd.to_datetime(df['date'])\n"
     ]
    },
    {
     "name": "stdout",
     "output_type": "stream",
     "text": [
      "Interval type: y15(4)\n"
     ]
    },
    {
     "name": "stderr",
     "output_type": "stream",
     "text": [
      "C:\\Users\\Asud\\AppData\\Local\\Temp\\ipykernel_18616\\2291859408.py:13: UserWarning: Parsing dates in DD/MM/YYYY format when dayfirst=False (the default) was specified. This may lead to inconsistently parsed dates! Specify a format to ensure consistent parsing.\n",
      "  df['date'] = pd.to_datetime(df['date'])\n"
     ]
    },
    {
     "name": "stdout",
     "output_type": "stream",
     "text": [
      "Interval type: y20(3)\n"
     ]
    },
    {
     "name": "stderr",
     "output_type": "stream",
     "text": [
      "C:\\Users\\Asud\\AppData\\Local\\Temp\\ipykernel_18616\\2291859408.py:13: UserWarning: Parsing dates in DD/MM/YYYY format when dayfirst=False (the default) was specified. This may lead to inconsistently parsed dates! Specify a format to ensure consistent parsing.\n",
      "  df['date'] = pd.to_datetime(df['date'])\n"
     ]
    },
    {
     "name": "stdout",
     "output_type": "stream",
     "text": [
      "Interval type: y20(4)\n"
     ]
    },
    {
     "name": "stderr",
     "output_type": "stream",
     "text": [
      "C:\\Users\\Asud\\AppData\\Local\\Temp\\ipykernel_18616\\2291859408.py:13: UserWarning: Parsing dates in DD/MM/YYYY format when dayfirst=False (the default) was specified. This may lead to inconsistently parsed dates! Specify a format to ensure consistent parsing.\n",
      "  df['date'] = pd.to_datetime(df['date'])\n"
     ]
    },
    {
     "name": "stdout",
     "output_type": "stream",
     "text": [
      "Interval type: y25(3)\n"
     ]
    },
    {
     "name": "stderr",
     "output_type": "stream",
     "text": [
      "C:\\Users\\Asud\\AppData\\Local\\Temp\\ipykernel_18616\\2291859408.py:13: UserWarning: Parsing dates in DD/MM/YYYY format when dayfirst=False (the default) was specified. This may lead to inconsistently parsed dates! Specify a format to ensure consistent parsing.\n",
      "  df['date'] = pd.to_datetime(df['date'])\n"
     ]
    },
    {
     "name": "stdout",
     "output_type": "stream",
     "text": [
      "Interval type: y25(4)\n"
     ]
    },
    {
     "name": "stderr",
     "output_type": "stream",
     "text": [
      "C:\\Users\\Asud\\AppData\\Local\\Temp\\ipykernel_18616\\2291859408.py:13: UserWarning: Parsing dates in DD/MM/YYYY format when dayfirst=False (the default) was specified. This may lead to inconsistently parsed dates! Specify a format to ensure consistent parsing.\n",
      "  df['date'] = pd.to_datetime(df['date'])\n"
     ]
    },
    {
     "name": "stdout",
     "output_type": "stream",
     "text": [
      "Interval type: y30(3)\n"
     ]
    },
    {
     "name": "stderr",
     "output_type": "stream",
     "text": [
      "C:\\Users\\Asud\\AppData\\Local\\Temp\\ipykernel_18616\\2291859408.py:13: UserWarning: Parsing dates in DD/MM/YYYY format when dayfirst=False (the default) was specified. This may lead to inconsistently parsed dates! Specify a format to ensure consistent parsing.\n",
      "  df['date'] = pd.to_datetime(df['date'])\n"
     ]
    },
    {
     "name": "stdout",
     "output_type": "stream",
     "text": [
      "Interval type: y30(4)\n"
     ]
    },
    {
     "name": "stderr",
     "output_type": "stream",
     "text": [
      "C:\\Users\\Asud\\AppData\\Local\\Temp\\ipykernel_18616\\2291859408.py:13: UserWarning: Parsing dates in DD/MM/YYYY format when dayfirst=False (the default) was specified. This may lead to inconsistently parsed dates! Specify a format to ensure consistent parsing.\n",
      "  df['date'] = pd.to_datetime(df['date'])\n"
     ]
    }
   ],
   "source": [
    "\n",
    "paths = [\"./output.csv\"]\n",
    "\n",
    "types = ['y5(3)', 'y5(4)', 'y10(3)', 'y10(4)', 'y15(3)', 'y15(4)', 'y20(3)', 'y20(4)', 'y25(3)', 'y25(4)', 'y30(3)', 'y30(4)']\n",
    "\n",
    "matrix = []\n",
    "\n",
    "s = ['BANKNIFTY23FEBFUT', 'NIFTY23FEBFUT'] \n",
    "\n",
    "for path in paths:\n",
    "    for j in types:\n",
    "        print(f'Interval type: {j}')\n",
    "        df = pd.read_csv(path)\n",
    "        df['date'] = pd.to_datetime(df['date'])\n",
    "        test_date = df['date'].max() - timedelta(days=3) if path.split(\"/\")[-1].split(\".\")[0] in s else df['date'].max() - timedelta(days=2)\n",
    "        train = df[df['date'] < test_date]\n",
    "        test = df[df['date'] >= test_date]\n",
    "        matrix.append(classifier_pipeline(train, test, j, types, path.split(\"/\")[-1].split(\".\")[0]))\n",
    "    x = pd.DataFrame(matrix)\n",
    "    path = f'./final_new_data/results/XGB Classifier/accuracy martices/{path.split(\"/\")[-1].split(\".\")[0]}_xgb.csv'\n",
    "    os.makedirs(os.path.dirname(path), exist_ok=True)\n",
    "    with open(path, 'w') as f:\n",
    "        x.to_csv(f, index=False)\n",
    "    # path = f'./final_new_data/results/XGB Classifier/report/classification_report_{path.split(\"/\")[-1].split(\".\")[0]}_xgb.csv'\n",
    "    # os.makedirs(os.path.dirname(path), exist_ok=True)\n",
    "    # with open(path, 'a') as f:\n",
    "    #     f.write(f'Parameter {y} Report:\\n')\n",
    "    #     f.write(str(report))\n"
   ]
  },
  {
   "cell_type": "code",
   "execution_count": 5,
   "metadata": {},
   "outputs": [],
   "source": [
    "def catboost_pipeline(train, test, y, types, name):\n",
    "    train = train.drop(['Unnamed: 0', 'ticker', 'date', 'time'], axis=1)\n",
    "    test = test.drop(['Unnamed: 0', 'ticker', 'date', 'time'], axis=1)\n",
    "\n",
    "    train = train.dropna()\n",
    "    test = test.dropna()\n",
    "    \n",
    "    X = train.drop(types, axis=1)\n",
    "    Y = train[y]\n",
    "    Xt = test.drop(types, axis=1)\n",
    "    Yt = test[y]\n",
    "    \n",
    "    mapping = {-1: 0, 0: 1, 1: 2}\n",
    "    Y = np.array([mapping[label] for label in Y])\n",
    "    Yt = np.array([mapping[label] for label in Yt])\n",
    "    \n",
    "    train_pool = Pool(data=X,label =Y)\n",
    "\n",
    "    model = CatBoostClassifier()\n",
    "    model.fit(train_pool, plot=True, silent=True)\n",
    "    \n",
    "    Yt_pred = model.predict(Xt)\n",
    "    Yt_pred = np.array([0 if label < 1 else 1 if label <\n",
    "                       2 else 2 for label in Yt_pred])\n",
    "    report = classification_report(Yt, Yt_pred, target_names=['-1', '0', '1'])\n",
    "    path = f'./final_new_data/results/Catboost Classifier/report/classification_report_{name}.txt'\n",
    "    os.makedirs(os.path.dirname(path), exist_ok=True)\n",
    "    with open(path, 'a') as f:\n",
    "        f.write(f'Parameter {y} Report:\\n')\n",
    "        f.write(str(report))\n",
    "        f.write('\\n\\n')\n",
    "    pd.DataFrame(Yt_pred).to_csv(\"./prediction.csv\")\n",
    "    # Yt_pred.to_csv(\"./prediction1.csv\")\n",
    "    return classification_report(Yt, Yt_pred, target_names=['-1', '0', '1'], output_dict=True)['accuracy'] #type: ignore\n"
   ]
  },
  {
   "cell_type": "code",
   "execution_count": 6,
   "metadata": {},
   "outputs": [
    {
     "name": "stdout",
     "output_type": "stream",
     "text": [
      "Interval type: y5(3)\n"
     ]
    },
    {
     "name": "stderr",
     "output_type": "stream",
     "text": [
      "C:\\Users\\Asud\\AppData\\Local\\Temp\\ipykernel_18616\\1220864610.py:9: UserWarning: Parsing dates in DD/MM/YYYY format when dayfirst=False (the default) was specified. This may lead to inconsistently parsed dates! Specify a format to ensure consistent parsing.\n",
      "  df['date'] = pd.to_datetime(df['date'])\n"
     ]
    },
    {
     "data": {
      "application/vnd.jupyter.widget-view+json": {
       "model_id": "3d9e5c4613ed463da1bbc784a8303842",
       "version_major": 2,
       "version_minor": 0
      },
      "text/plain": [
       "MetricVisualizer(layout=Layout(align_self='stretch', height='500px'))"
      ]
     },
     "metadata": {},
     "output_type": "display_data"
    },
    {
     "name": "stdout",
     "output_type": "stream",
     "text": [
      "Interval type: y5(4)\n"
     ]
    },
    {
     "name": "stderr",
     "output_type": "stream",
     "text": [
      "C:\\Users\\Asud\\AppData\\Local\\Temp\\ipykernel_18616\\1220864610.py:9: UserWarning: Parsing dates in DD/MM/YYYY format when dayfirst=False (the default) was specified. This may lead to inconsistently parsed dates! Specify a format to ensure consistent parsing.\n",
      "  df['date'] = pd.to_datetime(df['date'])\n"
     ]
    },
    {
     "data": {
      "application/vnd.jupyter.widget-view+json": {
       "model_id": "dadc8f9e3d0b4a388d9e1bd5d0da22f9",
       "version_major": 2,
       "version_minor": 0
      },
      "text/plain": [
       "MetricVisualizer(layout=Layout(align_self='stretch', height='500px'))"
      ]
     },
     "metadata": {},
     "output_type": "display_data"
    },
    {
     "name": "stdout",
     "output_type": "stream",
     "text": [
      "Interval type: y10(3)\n"
     ]
    },
    {
     "name": "stderr",
     "output_type": "stream",
     "text": [
      "C:\\Users\\Asud\\AppData\\Local\\Temp\\ipykernel_18616\\1220864610.py:9: UserWarning: Parsing dates in DD/MM/YYYY format when dayfirst=False (the default) was specified. This may lead to inconsistently parsed dates! Specify a format to ensure consistent parsing.\n",
      "  df['date'] = pd.to_datetime(df['date'])\n"
     ]
    },
    {
     "data": {
      "application/vnd.jupyter.widget-view+json": {
       "model_id": "f1bd3222e0274d5f90f9622ed2f4e27a",
       "version_major": 2,
       "version_minor": 0
      },
      "text/plain": [
       "MetricVisualizer(layout=Layout(align_self='stretch', height='500px'))"
      ]
     },
     "metadata": {},
     "output_type": "display_data"
    },
    {
     "name": "stdout",
     "output_type": "stream",
     "text": [
      "Interval type: y10(4)\n"
     ]
    },
    {
     "name": "stderr",
     "output_type": "stream",
     "text": [
      "C:\\Users\\Asud\\AppData\\Local\\Temp\\ipykernel_18616\\1220864610.py:9: UserWarning: Parsing dates in DD/MM/YYYY format when dayfirst=False (the default) was specified. This may lead to inconsistently parsed dates! Specify a format to ensure consistent parsing.\n",
      "  df['date'] = pd.to_datetime(df['date'])\n"
     ]
    },
    {
     "data": {
      "application/vnd.jupyter.widget-view+json": {
       "model_id": "134e5777c5824984b9c58d554b0473e6",
       "version_major": 2,
       "version_minor": 0
      },
      "text/plain": [
       "MetricVisualizer(layout=Layout(align_self='stretch', height='500px'))"
      ]
     },
     "metadata": {},
     "output_type": "display_data"
    },
    {
     "name": "stdout",
     "output_type": "stream",
     "text": [
      "Interval type: y15(3)\n"
     ]
    },
    {
     "name": "stderr",
     "output_type": "stream",
     "text": [
      "C:\\Users\\Asud\\AppData\\Local\\Temp\\ipykernel_18616\\1220864610.py:9: UserWarning: Parsing dates in DD/MM/YYYY format when dayfirst=False (the default) was specified. This may lead to inconsistently parsed dates! Specify a format to ensure consistent parsing.\n",
      "  df['date'] = pd.to_datetime(df['date'])\n"
     ]
    },
    {
     "data": {
      "application/vnd.jupyter.widget-view+json": {
       "model_id": "2d3664cda3014331a8c6b92e0d76608a",
       "version_major": 2,
       "version_minor": 0
      },
      "text/plain": [
       "MetricVisualizer(layout=Layout(align_self='stretch', height='500px'))"
      ]
     },
     "metadata": {},
     "output_type": "display_data"
    },
    {
     "name": "stdout",
     "output_type": "stream",
     "text": [
      "Interval type: y15(4)\n"
     ]
    },
    {
     "name": "stderr",
     "output_type": "stream",
     "text": [
      "C:\\Users\\Asud\\AppData\\Local\\Temp\\ipykernel_18616\\1220864610.py:9: UserWarning: Parsing dates in DD/MM/YYYY format when dayfirst=False (the default) was specified. This may lead to inconsistently parsed dates! Specify a format to ensure consistent parsing.\n",
      "  df['date'] = pd.to_datetime(df['date'])\n"
     ]
    },
    {
     "data": {
      "application/vnd.jupyter.widget-view+json": {
       "model_id": "ddbf1a996f734d1993468d59736e0b53",
       "version_major": 2,
       "version_minor": 0
      },
      "text/plain": [
       "MetricVisualizer(layout=Layout(align_self='stretch', height='500px'))"
      ]
     },
     "metadata": {},
     "output_type": "display_data"
    },
    {
     "name": "stdout",
     "output_type": "stream",
     "text": [
      "Interval type: y20(3)\n"
     ]
    },
    {
     "name": "stderr",
     "output_type": "stream",
     "text": [
      "C:\\Users\\Asud\\AppData\\Local\\Temp\\ipykernel_18616\\1220864610.py:9: UserWarning: Parsing dates in DD/MM/YYYY format when dayfirst=False (the default) was specified. This may lead to inconsistently parsed dates! Specify a format to ensure consistent parsing.\n",
      "  df['date'] = pd.to_datetime(df['date'])\n"
     ]
    },
    {
     "data": {
      "application/vnd.jupyter.widget-view+json": {
       "model_id": "d6240db389124c6daeddaa90ff6e270c",
       "version_major": 2,
       "version_minor": 0
      },
      "text/plain": [
       "MetricVisualizer(layout=Layout(align_self='stretch', height='500px'))"
      ]
     },
     "metadata": {},
     "output_type": "display_data"
    },
    {
     "name": "stdout",
     "output_type": "stream",
     "text": [
      "Interval type: y20(4)\n"
     ]
    },
    {
     "name": "stderr",
     "output_type": "stream",
     "text": [
      "C:\\Users\\Asud\\AppData\\Local\\Temp\\ipykernel_18616\\1220864610.py:9: UserWarning: Parsing dates in DD/MM/YYYY format when dayfirst=False (the default) was specified. This may lead to inconsistently parsed dates! Specify a format to ensure consistent parsing.\n",
      "  df['date'] = pd.to_datetime(df['date'])\n"
     ]
    },
    {
     "data": {
      "application/vnd.jupyter.widget-view+json": {
       "model_id": "d874a55df1ae42da9cc73e026186ba68",
       "version_major": 2,
       "version_minor": 0
      },
      "text/plain": [
       "MetricVisualizer(layout=Layout(align_self='stretch', height='500px'))"
      ]
     },
     "metadata": {},
     "output_type": "display_data"
    },
    {
     "name": "stdout",
     "output_type": "stream",
     "text": [
      "Interval type: y25(3)\n"
     ]
    },
    {
     "name": "stderr",
     "output_type": "stream",
     "text": [
      "C:\\Users\\Asud\\AppData\\Local\\Temp\\ipykernel_18616\\1220864610.py:9: UserWarning: Parsing dates in DD/MM/YYYY format when dayfirst=False (the default) was specified. This may lead to inconsistently parsed dates! Specify a format to ensure consistent parsing.\n",
      "  df['date'] = pd.to_datetime(df['date'])\n"
     ]
    },
    {
     "data": {
      "application/vnd.jupyter.widget-view+json": {
       "model_id": "cf92bc5e28ef47ce9d0c1ef44a4eac6a",
       "version_major": 2,
       "version_minor": 0
      },
      "text/plain": [
       "MetricVisualizer(layout=Layout(align_self='stretch', height='500px'))"
      ]
     },
     "metadata": {},
     "output_type": "display_data"
    },
    {
     "name": "stdout",
     "output_type": "stream",
     "text": [
      "Interval type: y25(4)\n"
     ]
    },
    {
     "name": "stderr",
     "output_type": "stream",
     "text": [
      "C:\\Users\\Asud\\AppData\\Local\\Temp\\ipykernel_18616\\1220864610.py:9: UserWarning: Parsing dates in DD/MM/YYYY format when dayfirst=False (the default) was specified. This may lead to inconsistently parsed dates! Specify a format to ensure consistent parsing.\n",
      "  df['date'] = pd.to_datetime(df['date'])\n"
     ]
    },
    {
     "data": {
      "application/vnd.jupyter.widget-view+json": {
       "model_id": "a6c454d55a2645509451e41f67b5e70f",
       "version_major": 2,
       "version_minor": 0
      },
      "text/plain": [
       "MetricVisualizer(layout=Layout(align_self='stretch', height='500px'))"
      ]
     },
     "metadata": {},
     "output_type": "display_data"
    },
    {
     "name": "stdout",
     "output_type": "stream",
     "text": [
      "Interval type: y30(3)\n"
     ]
    },
    {
     "name": "stderr",
     "output_type": "stream",
     "text": [
      "C:\\Users\\Asud\\AppData\\Local\\Temp\\ipykernel_18616\\1220864610.py:9: UserWarning: Parsing dates in DD/MM/YYYY format when dayfirst=False (the default) was specified. This may lead to inconsistently parsed dates! Specify a format to ensure consistent parsing.\n",
      "  df['date'] = pd.to_datetime(df['date'])\n"
     ]
    },
    {
     "data": {
      "application/vnd.jupyter.widget-view+json": {
       "model_id": "8869ebfaed944ec8a47f25110ce33ae7",
       "version_major": 2,
       "version_minor": 0
      },
      "text/plain": [
       "MetricVisualizer(layout=Layout(align_self='stretch', height='500px'))"
      ]
     },
     "metadata": {},
     "output_type": "display_data"
    },
    {
     "name": "stdout",
     "output_type": "stream",
     "text": [
      "Interval type: y30(4)\n"
     ]
    },
    {
     "name": "stderr",
     "output_type": "stream",
     "text": [
      "C:\\Users\\Asud\\AppData\\Local\\Temp\\ipykernel_18616\\1220864610.py:9: UserWarning: Parsing dates in DD/MM/YYYY format when dayfirst=False (the default) was specified. This may lead to inconsistently parsed dates! Specify a format to ensure consistent parsing.\n",
      "  df['date'] = pd.to_datetime(df['date'])\n"
     ]
    },
    {
     "data": {
      "application/vnd.jupyter.widget-view+json": {
       "model_id": "4f416f8d0da849e699cf2d001cd1cfed",
       "version_major": 2,
       "version_minor": 0
      },
      "text/plain": [
       "MetricVisualizer(layout=Layout(align_self='stretch', height='500px'))"
      ]
     },
     "metadata": {},
     "output_type": "display_data"
    }
   ],
   "source": [
    "\n",
    "matrix = []\n",
    "\n",
    "\n",
    "\n",
    "for path in paths:\n",
    "    for j in types:\n",
    "        print(f'Interval type: {j}')\n",
    "        df = pd.read_csv(path)\n",
    "        df['date'] = pd.to_datetime(df['date'])\n",
    "        test_date = df['date'].max() - timedelta(days=3) if path.split(\n",
    "            \"/\")[-1].split(\".\")[0] in s else df['date'].max() - timedelta(days=2)\n",
    "        train = df[df['date'] < test_date]\n",
    "        test = df[df['date'] >= test_date]\n",
    "        matrix.append(catboost_pipeline(train, test, j, types, path.split(\"/\")[-1].split(\".\")[0]))\n",
    "    x = pd.DataFrame(matrix)\n",
    "    path = f'./final_new_data/results/Catboost Classifier/accuracy martices/{path.split(\"/\")[-1].split(\".\")[0]}_catb.csv'\n",
    "    os.makedirs(os.path.dirname(path), exist_ok=True)\n",
    "    with open(path, 'w') as f:\n",
    "        x.to_csv(f, index=False)\n"
   ]
  },
  {
   "cell_type": "code",
   "execution_count": null,
   "metadata": {},
   "outputs": [],
   "source": []
  },
  {
   "cell_type": "code",
   "execution_count": null,
   "metadata": {},
   "outputs": [],
   "source": []
  }
 ],
 "metadata": {
  "kernelspec": {
   "display_name": "Python 3",
   "language": "python",
   "name": "python3"
  },
  "language_info": {
   "codemirror_mode": {
    "name": "ipython",
    "version": 3
   },
   "file_extension": ".py",
   "mimetype": "text/x-python",
   "name": "python",
   "nbconvert_exporter": "python",
   "pygments_lexer": "ipython3",
   "version": "3.10.7"
  },
  "orig_nbformat": 4
 },
 "nbformat": 4,
 "nbformat_minor": 2
}
